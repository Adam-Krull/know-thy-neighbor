{
 "cells": [
  {
   "cell_type": "code",
   "execution_count": 3,
   "id": "04a789aa",
   "metadata": {},
   "outputs": [
    {
     "data": {
      "application/javascript": [
       "IPython.notebook.set_autosave_interval(0)"
      ]
     },
     "metadata": {},
     "output_type": "display_data"
    },
    {
     "name": "stdout",
     "output_type": "stream",
     "text": [
      "Autosave disabled\n"
     ]
    }
   ],
   "source": [
    "%autosave 0"
   ]
  },
  {
   "cell_type": "code",
   "execution_count": 35,
   "id": "e1cb9c17",
   "metadata": {},
   "outputs": [],
   "source": [
    "from requests import get\n",
    "from env import census_api_key\n",
    "import pandas as pd"
   ]
  },
  {
   "cell_type": "code",
   "execution_count": 8,
   "id": "7c0c6d86",
   "metadata": {},
   "outputs": [],
   "source": [
    "url = f\"https://api.census.gov/data/2019/acs/acs1/subject\""
   ]
  },
  {
   "cell_type": "code",
   "execution_count": 9,
   "id": "3202550c",
   "metadata": {},
   "outputs": [],
   "source": [
    "response = get(url)"
   ]
  },
  {
   "cell_type": "code",
   "execution_count": 10,
   "id": "98943c1e",
   "metadata": {},
   "outputs": [],
   "source": [
    "content = response.json()"
   ]
  },
  {
   "cell_type": "code",
   "execution_count": 11,
   "id": "0e10906c",
   "metadata": {},
   "outputs": [
    {
     "data": {
      "text/plain": [
       "dict_keys(['@context', '@id', '@type', 'conformsTo', 'describedBy', 'dataset'])"
      ]
     },
     "execution_count": 11,
     "metadata": {},
     "output_type": "execute_result"
    }
   ],
   "source": [
    "content.keys()"
   ]
  },
  {
   "cell_type": "code",
   "execution_count": 16,
   "id": "1c6ebc3b",
   "metadata": {},
   "outputs": [
    {
     "data": {
      "text/plain": [
       "dict_keys(['c_vintage', 'c_dataset', 'c_geographyLink', 'c_variablesLink', 'c_tagsLink', 'c_examplesLink', 'c_groupsLink', 'c_sorts_url', 'c_valuesLink', 'c_documentationLink', 'c_isAggregate', 'c_isCube', 'c_isAvailable', '@type', 'title', 'accessLevel', 'bureauCode', 'description', 'distribution', 'contactPoint', 'identifier', 'keyword', 'license', 'modified', 'programCode', 'references', 'publisher'])"
      ]
     },
     "execution_count": 16,
     "metadata": {},
     "output_type": "execute_result"
    }
   ],
   "source": [
    "content['dataset'][0].keys()"
   ]
  },
  {
   "cell_type": "code",
   "execution_count": 17,
   "id": "28ba01a3",
   "metadata": {},
   "outputs": [
    {
     "data": {
      "text/plain": [
       "'http://api.census.gov/data/2019/acs/acs1/subject/groups.json'"
      ]
     },
     "execution_count": 17,
     "metadata": {},
     "output_type": "execute_result"
    }
   ],
   "source": [
    "content['dataset'][0]['c_groupsLink']"
   ]
  },
  {
   "cell_type": "code",
   "execution_count": 18,
   "id": "56615fa1",
   "metadata": {},
   "outputs": [],
   "source": [
    "url_g = 'http://api.census.gov/data/2019/acs/acs1/subject/groups.json'"
   ]
  },
  {
   "cell_type": "code",
   "execution_count": 19,
   "id": "004d9af3",
   "metadata": {},
   "outputs": [],
   "source": [
    "response_g = get(url_g)"
   ]
  },
  {
   "cell_type": "code",
   "execution_count": 20,
   "id": "cd8e3125",
   "metadata": {},
   "outputs": [],
   "source": [
    "content_g = response_g.json()"
   ]
  },
  {
   "cell_type": "code",
   "execution_count": 21,
   "id": "d0385b94",
   "metadata": {},
   "outputs": [
    {
     "data": {
      "text/plain": [
       "dict_keys(['groups'])"
      ]
     },
     "execution_count": 21,
     "metadata": {},
     "output_type": "execute_result"
    }
   ],
   "source": [
    "content_g.keys()"
   ]
  },
  {
   "cell_type": "code",
   "execution_count": 25,
   "id": "869ca91f",
   "metadata": {},
   "outputs": [
    {
     "data": {
      "text/plain": [
       "{'name': 'S0103PR',\n",
       " 'description': 'POPULATION 65 YEARS AND OVER IN PUERTO RICO',\n",
       " 'variables': 'http://api.census.gov/data/2019/acs/acs1/subject/groups/S0103PR.json'}"
      ]
     },
     "execution_count": 25,
     "metadata": {},
     "output_type": "execute_result"
    }
   ],
   "source": [
    "content_g['groups'][0]"
   ]
  },
  {
   "cell_type": "code",
   "execution_count": 28,
   "id": "25661312",
   "metadata": {},
   "outputs": [
    {
     "name": "stdout",
     "output_type": "stream",
     "text": [
      "Found it: S1901.\n"
     ]
    }
   ],
   "source": [
    "table = 'S1901'\n",
    "\n",
    "link = ''\n",
    "\n",
    "for item in content_g['groups']:\n",
    "    \n",
    "    if item['name'] == table:\n",
    "        \n",
    "        print('Found it: {}.'.format(item['name']))\n",
    "        \n",
    "        link = item['variables']\n",
    "        \n",
    "        break"
   ]
  },
  {
   "cell_type": "code",
   "execution_count": 29,
   "id": "669db3ca",
   "metadata": {},
   "outputs": [
    {
     "data": {
      "text/plain": [
       "'http://api.census.gov/data/2019/acs/acs1/subject/groups/S1901.json'"
      ]
     },
     "execution_count": 29,
     "metadata": {},
     "output_type": "execute_result"
    }
   ],
   "source": [
    "link"
   ]
  },
  {
   "cell_type": "code",
   "execution_count": 30,
   "id": "844a753b",
   "metadata": {},
   "outputs": [],
   "source": [
    "url_s1901 = 'https://api.census.gov/data/2019/acs/acs1/subject?get=NAME,group(S1901)&for=us:1&key=' + '{}'.format(census_api_key)"
   ]
  },
  {
   "cell_type": "code",
   "execution_count": 32,
   "id": "d1c4df8c",
   "metadata": {},
   "outputs": [],
   "source": [
    "table_response = get(url_s1901)"
   ]
  },
  {
   "cell_type": "code",
   "execution_count": 33,
   "id": "a087ec3b",
   "metadata": {},
   "outputs": [],
   "source": [
    "table_content = table_response.json()"
   ]
  },
  {
   "cell_type": "code",
   "execution_count": 39,
   "id": "5b32ec84",
   "metadata": {},
   "outputs": [],
   "source": [
    "df_inc = pd.DataFrame(table_content)"
   ]
  },
  {
   "cell_type": "code",
   "execution_count": 40,
   "id": "4ca8f5a6",
   "metadata": {},
   "outputs": [
    {
     "data": {
      "text/html": [
       "<div>\n",
       "<style scoped>\n",
       "    .dataframe tbody tr th:only-of-type {\n",
       "        vertical-align: middle;\n",
       "    }\n",
       "\n",
       "    .dataframe tbody tr th {\n",
       "        vertical-align: top;\n",
       "    }\n",
       "\n",
       "    .dataframe thead th {\n",
       "        text-align: right;\n",
       "    }\n",
       "</style>\n",
       "<table border=\"1\" class=\"dataframe\">\n",
       "  <thead>\n",
       "    <tr style=\"text-align: right;\">\n",
       "      <th></th>\n",
       "      <th>0</th>\n",
       "      <th>1</th>\n",
       "      <th>2</th>\n",
       "      <th>3</th>\n",
       "      <th>4</th>\n",
       "      <th>5</th>\n",
       "      <th>6</th>\n",
       "      <th>7</th>\n",
       "      <th>8</th>\n",
       "      <th>9</th>\n",
       "      <th>...</th>\n",
       "      <th>250</th>\n",
       "      <th>251</th>\n",
       "      <th>252</th>\n",
       "      <th>253</th>\n",
       "      <th>254</th>\n",
       "      <th>255</th>\n",
       "      <th>256</th>\n",
       "      <th>257</th>\n",
       "      <th>258</th>\n",
       "      <th>259</th>\n",
       "    </tr>\n",
       "  </thead>\n",
       "  <tbody>\n",
       "    <tr>\n",
       "      <th>0</th>\n",
       "      <td>NAME</td>\n",
       "      <td>GEO_ID</td>\n",
       "      <td>NAME</td>\n",
       "      <td>S1901_C01_001E</td>\n",
       "      <td>S1901_C01_001EA</td>\n",
       "      <td>S1901_C01_001M</td>\n",
       "      <td>S1901_C01_001MA</td>\n",
       "      <td>S1901_C01_002E</td>\n",
       "      <td>S1901_C01_002EA</td>\n",
       "      <td>S1901_C01_002M</td>\n",
       "      <td>...</td>\n",
       "      <td>S1901_C04_014MA</td>\n",
       "      <td>S1901_C04_015E</td>\n",
       "      <td>S1901_C04_015EA</td>\n",
       "      <td>S1901_C04_015M</td>\n",
       "      <td>S1901_C04_015MA</td>\n",
       "      <td>S1901_C04_016E</td>\n",
       "      <td>S1901_C04_016EA</td>\n",
       "      <td>S1901_C04_016M</td>\n",
       "      <td>S1901_C04_016MA</td>\n",
       "      <td>us</td>\n",
       "    </tr>\n",
       "    <tr>\n",
       "      <th>1</th>\n",
       "      <td>United States</td>\n",
       "      <td>0100000US</td>\n",
       "      <td>United States</td>\n",
       "      <td>122802852</td>\n",
       "      <td>None</td>\n",
       "      <td>137327</td>\n",
       "      <td>None</td>\n",
       "      <td>5.8</td>\n",
       "      <td>None</td>\n",
       "      <td>0.1</td>\n",
       "      <td>...</td>\n",
       "      <td>(X)</td>\n",
       "      <td>-888888888</td>\n",
       "      <td>(X)</td>\n",
       "      <td>-888888888</td>\n",
       "      <td>(X)</td>\n",
       "      <td>32.7</td>\n",
       "      <td>None</td>\n",
       "      <td>-888888888.0</td>\n",
       "      <td>(X)</td>\n",
       "      <td>1</td>\n",
       "    </tr>\n",
       "  </tbody>\n",
       "</table>\n",
       "<p>2 rows × 260 columns</p>\n",
       "</div>"
      ],
      "text/plain": [
       "             0          1              2               3                4    \\\n",
       "0           NAME     GEO_ID           NAME  S1901_C01_001E  S1901_C01_001EA   \n",
       "1  United States  0100000US  United States       122802852             None   \n",
       "\n",
       "              5                6               7                8    \\\n",
       "0  S1901_C01_001M  S1901_C01_001MA  S1901_C01_002E  S1901_C01_002EA   \n",
       "1          137327             None             5.8             None   \n",
       "\n",
       "              9    ...              250             251              252  \\\n",
       "0  S1901_C01_002M  ...  S1901_C04_014MA  S1901_C04_015E  S1901_C04_015EA   \n",
       "1             0.1  ...              (X)      -888888888              (X)   \n",
       "\n",
       "              253              254             255              256  \\\n",
       "0  S1901_C04_015M  S1901_C04_015MA  S1901_C04_016E  S1901_C04_016EA   \n",
       "1      -888888888              (X)            32.7             None   \n",
       "\n",
       "              257              258 259  \n",
       "0  S1901_C04_016M  S1901_C04_016MA  us  \n",
       "1    -888888888.0              (X)   1  \n",
       "\n",
       "[2 rows x 260 columns]"
      ]
     },
     "execution_count": 40,
     "metadata": {},
     "output_type": "execute_result"
    }
   ],
   "source": [
    "df_inc.head()"
   ]
  },
  {
   "cell_type": "code",
   "execution_count": null,
   "id": "713efac3",
   "metadata": {},
   "outputs": [],
   "source": [
    "url_s1901 = 'https://api.census.gov/data/2019/acs/acs1/subject?get=NAME,group(S1901)&for=:1&key=' + '{}'.format(census_api_key)"
   ]
  }
 ],
 "metadata": {
  "kernelspec": {
   "display_name": "Python 3 (ipykernel)",
   "language": "python",
   "name": "python3"
  },
  "language_info": {
   "codemirror_mode": {
    "name": "ipython",
    "version": 3
   },
   "file_extension": ".py",
   "mimetype": "text/x-python",
   "name": "python",
   "nbconvert_exporter": "python",
   "pygments_lexer": "ipython3",
   "version": "3.9.12"
  }
 },
 "nbformat": 4,
 "nbformat_minor": 5
}
